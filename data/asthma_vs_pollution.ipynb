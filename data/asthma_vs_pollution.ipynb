{
 "cells": [
  {
   "cell_type": "code",
   "execution_count": 5,
   "metadata": {},
   "outputs": [],
   "source": [
    "import pandas as pd\n",
    "from sqlalchemy import create_engine "
   ]
  },
  {
   "cell_type": "code",
   "execution_count": 8,
   "metadata": {},
   "outputs": [
    {
     "data": {
      "text/html": [
       "<div>\n",
       "<style scoped>\n",
       "    .dataframe tbody tr th:only-of-type {\n",
       "        vertical-align: middle;\n",
       "    }\n",
       "\n",
       "    .dataframe tbody tr th {\n",
       "        vertical-align: top;\n",
       "    }\n",
       "\n",
       "    .dataframe thead th {\n",
       "        text-align: right;\n",
       "    }\n",
       "</style>\n",
       "<table border=\"1\" class=\"dataframe\">\n",
       "  <thead>\n",
       "    <tr style=\"text-align: right;\">\n",
       "      <th></th>\n",
       "      <th>County</th>\n",
       "      <th>State</th>\n",
       "      <th>City</th>\n",
       "      <th>Date Local</th>\n",
       "      <th>NO2 Mean</th>\n",
       "      <th>O3 Mean</th>\n",
       "      <th>SO2 Mean</th>\n",
       "      <th>CO Mean</th>\n",
       "    </tr>\n",
       "  </thead>\n",
       "  <tbody>\n",
       "    <tr>\n",
       "      <th>0</th>\n",
       "      <td>Maricopa</td>\n",
       "      <td>Arizona</td>\n",
       "      <td>Phoenix</td>\n",
       "      <td>2009-01-03</td>\n",
       "      <td>22.541667</td>\n",
       "      <td>0.00975</td>\n",
       "      <td>1.333333</td>\n",
       "      <td>0.308333</td>\n",
       "    </tr>\n",
       "  </tbody>\n",
       "</table>\n",
       "</div>"
      ],
      "text/plain": [
       "     County    State     City  Date Local   NO2 Mean  O3 Mean  SO2 Mean  \\\n",
       "0  Maricopa  Arizona  Phoenix  2009-01-03  22.541667  0.00975  1.333333   \n",
       "\n",
       "    CO Mean  \n",
       "0  0.308333  "
      ]
     },
     "execution_count": 8,
     "metadata": {},
     "output_type": "execute_result"
    }
   ],
   "source": [
    "air_pollution = \"../pollution_clean.csv\"\n",
    "pollution_df = pd.read_csv(air_pollution)\n",
    "pollution_df.head(1)"
   ]
  },
  {
   "cell_type": "code",
   "execution_count": 9,
   "metadata": {},
   "outputs": [
    {
     "data": {
      "text/html": [
       "<div>\n",
       "<style scoped>\n",
       "    .dataframe tbody tr th:only-of-type {\n",
       "        vertical-align: middle;\n",
       "    }\n",
       "\n",
       "    .dataframe tbody tr th {\n",
       "        vertical-align: top;\n",
       "    }\n",
       "\n",
       "    .dataframe thead th {\n",
       "        text-align: right;\n",
       "    }\n",
       "</style>\n",
       "<table border=\"1\" class=\"dataframe\">\n",
       "  <thead>\n",
       "    <tr style=\"text-align: right;\">\n",
       "      <th></th>\n",
       "      <th>State</th>\n",
       "      <th>City</th>\n",
       "      <th>Date Local</th>\n",
       "      <th>NO2 Mean</th>\n",
       "      <th>O3 Mean</th>\n",
       "      <th>SO2 Mean</th>\n",
       "      <th>CO Mean</th>\n",
       "    </tr>\n",
       "    <tr>\n",
       "      <th>County</th>\n",
       "      <th></th>\n",
       "      <th></th>\n",
       "      <th></th>\n",
       "      <th></th>\n",
       "      <th></th>\n",
       "      <th></th>\n",
       "      <th></th>\n",
       "    </tr>\n",
       "  </thead>\n",
       "  <tbody>\n",
       "    <tr>\n",
       "      <th>Maricopa</th>\n",
       "      <td>Arizona</td>\n",
       "      <td>Phoenix</td>\n",
       "      <td>2009-01-03</td>\n",
       "      <td>22.541667</td>\n",
       "      <td>0.009750</td>\n",
       "      <td>1.333333</td>\n",
       "      <td>0.308333</td>\n",
       "    </tr>\n",
       "    <tr>\n",
       "      <th>Maricopa</th>\n",
       "      <td>Arizona</td>\n",
       "      <td>Phoenix</td>\n",
       "      <td>2009-01-03</td>\n",
       "      <td>22.541667</td>\n",
       "      <td>0.009750</td>\n",
       "      <td>1.333333</td>\n",
       "      <td>0.412500</td>\n",
       "    </tr>\n",
       "    <tr>\n",
       "      <th>Maricopa</th>\n",
       "      <td>Arizona</td>\n",
       "      <td>Phoenix</td>\n",
       "      <td>2009-01-03</td>\n",
       "      <td>22.541667</td>\n",
       "      <td>0.009750</td>\n",
       "      <td>1.312500</td>\n",
       "      <td>0.308333</td>\n",
       "    </tr>\n",
       "    <tr>\n",
       "      <th>Maricopa</th>\n",
       "      <td>Arizona</td>\n",
       "      <td>Phoenix</td>\n",
       "      <td>2009-01-03</td>\n",
       "      <td>22.541667</td>\n",
       "      <td>0.009750</td>\n",
       "      <td>1.312500</td>\n",
       "      <td>0.412500</td>\n",
       "    </tr>\n",
       "    <tr>\n",
       "      <th>Maricopa</th>\n",
       "      <td>Arizona</td>\n",
       "      <td>Phoenix</td>\n",
       "      <td>2009-01-04</td>\n",
       "      <td>19.250000</td>\n",
       "      <td>0.010208</td>\n",
       "      <td>0.666667</td>\n",
       "      <td>0.287500</td>\n",
       "    </tr>\n",
       "  </tbody>\n",
       "</table>\n",
       "</div>"
      ],
      "text/plain": [
       "            State     City  Date Local   NO2 Mean   O3 Mean  SO2 Mean  \\\n",
       "County                                                                  \n",
       "Maricopa  Arizona  Phoenix  2009-01-03  22.541667  0.009750  1.333333   \n",
       "Maricopa  Arizona  Phoenix  2009-01-03  22.541667  0.009750  1.333333   \n",
       "Maricopa  Arizona  Phoenix  2009-01-03  22.541667  0.009750  1.312500   \n",
       "Maricopa  Arizona  Phoenix  2009-01-03  22.541667  0.009750  1.312500   \n",
       "Maricopa  Arizona  Phoenix  2009-01-04  19.250000  0.010208  0.666667   \n",
       "\n",
       "           CO Mean  \n",
       "County              \n",
       "Maricopa  0.308333  \n",
       "Maricopa  0.412500  \n",
       "Maricopa  0.308333  \n",
       "Maricopa  0.412500  \n",
       "Maricopa  0.287500  "
      ]
     },
     "execution_count": 9,
     "metadata": {},
     "output_type": "execute_result"
    }
   ],
   "source": [
    "new_poll_df = pollution_df[(pollution_df[\"Date Local\"]>\"2009-01-02\") & (pollution_df[\"Date Local\"] <= \"2012-12-31\")]\n",
    "new_poll_df.head()\n",
    "\n",
    "pollution = new_poll_df[[\"State\", \"County\", \"City\", \"Date Local\", \"NO2 Mean\", \"O3 Mean\", \"SO2 Mean\", \"CO Mean\"]].copy()\n",
    "pollution.set_index(\"County\", inplace=True)\n",
    "pollution.head()"
   ]
  },
  {
   "cell_type": "code",
   "execution_count": 11,
   "metadata": {},
   "outputs": [
    {
     "data": {
      "text/html": [
       "<div>\n",
       "<style scoped>\n",
       "    .dataframe tbody tr th:only-of-type {\n",
       "        vertical-align: middle;\n",
       "    }\n",
       "\n",
       "    .dataframe tbody tr th {\n",
       "        vertical-align: top;\n",
       "    }\n",
       "\n",
       "    .dataframe thead th {\n",
       "        text-align: right;\n",
       "    }\n",
       "</style>\n",
       "<table border=\"1\" class=\"dataframe\">\n",
       "  <thead>\n",
       "    <tr style=\"text-align: right;\">\n",
       "      <th></th>\n",
       "      <th>county</th>\n",
       "      <th>year</th>\n",
       "      <th>age_group</th>\n",
       "      <th>number_of_visits</th>\n",
       "    </tr>\n",
       "  </thead>\n",
       "  <tbody>\n",
       "    <tr>\n",
       "      <th>0</th>\n",
       "      <td>LOS ANGELES</td>\n",
       "      <td>2012</td>\n",
       "      <td>AllAges</td>\n",
       "      <td>433.0</td>\n",
       "    </tr>\n",
       "  </tbody>\n",
       "</table>\n",
       "</div>"
      ],
      "text/plain": [
       "        county  year age_group  number_of_visits\n",
       "0  LOS ANGELES  2012   AllAges             433.0"
      ]
     },
     "execution_count": 11,
     "metadata": {},
     "output_type": "execute_result"
    }
   ],
   "source": [
    "asthma_data = \"../asthma_clean.csv\"\n",
    "asthma_df = pd.read_csv(asthma_data)\n",
    "asthma_df.head(1)"
   ]
  },
  {
   "cell_type": "code",
   "execution_count": 46,
   "metadata": {},
   "outputs": [
    {
     "data": {
      "text/html": [
       "<div>\n",
       "<style scoped>\n",
       "    .dataframe tbody tr th:only-of-type {\n",
       "        vertical-align: middle;\n",
       "    }\n",
       "\n",
       "    .dataframe tbody tr th {\n",
       "        vertical-align: top;\n",
       "    }\n",
       "\n",
       "    .dataframe thead th {\n",
       "        text-align: right;\n",
       "    }\n",
       "</style>\n",
       "<table border=\"1\" class=\"dataframe\">\n",
       "  <thead>\n",
       "    <tr style=\"text-align: right;\">\n",
       "      <th></th>\n",
       "      <th>year</th>\n",
       "      <th>age_group</th>\n",
       "      <th>number_of_visits</th>\n",
       "    </tr>\n",
       "    <tr>\n",
       "      <th>county</th>\n",
       "      <th></th>\n",
       "      <th></th>\n",
       "      <th></th>\n",
       "    </tr>\n",
       "  </thead>\n",
       "  <tbody>\n",
       "    <tr>\n",
       "      <th>Los Angeles</th>\n",
       "      <td>2012</td>\n",
       "      <td>AllAges</td>\n",
       "      <td>433.0</td>\n",
       "    </tr>\n",
       "    <tr>\n",
       "      <th>Los Angeles</th>\n",
       "      <td>2012</td>\n",
       "      <td>Children (0-17)</td>\n",
       "      <td>221.0</td>\n",
       "    </tr>\n",
       "    <tr>\n",
       "      <th>Los Angeles</th>\n",
       "      <td>2012</td>\n",
       "      <td>Adults (18+)</td>\n",
       "      <td>212.0</td>\n",
       "    </tr>\n",
       "    <tr>\n",
       "      <th>Los Angeles</th>\n",
       "      <td>2012</td>\n",
       "      <td>AllAges</td>\n",
       "      <td>438.0</td>\n",
       "    </tr>\n",
       "    <tr>\n",
       "      <th>Los Angeles</th>\n",
       "      <td>2012</td>\n",
       "      <td>Children (0-17)</td>\n",
       "      <td>215.0</td>\n",
       "    </tr>\n",
       "  </tbody>\n",
       "</table>\n",
       "</div>"
      ],
      "text/plain": [
       "             year        age_group  number_of_visits\n",
       "county                                              \n",
       "Los Angeles  2012          AllAges             433.0\n",
       "Los Angeles  2012  Children (0-17)             221.0\n",
       "Los Angeles  2012     Adults (18+)             212.0\n",
       "Los Angeles  2012          AllAges             438.0\n",
       "Los Angeles  2012  Children (0-17)             215.0"
      ]
     },
     "execution_count": 46,
     "metadata": {},
     "output_type": "execute_result"
    }
   ],
   "source": [
    "asthma = asthma_df[[\"year\", \"age_group\", \"number_of_visits\", \"county\"]].copy()\n",
    "asthma['county'] = asthma['county'].str.title()\n",
    "asthma.set_index(\"county\", inplace=True) \n",
    "asthma.head()"
   ]
  },
  {
   "cell_type": "code",
   "execution_count": 47,
   "metadata": {},
   "outputs": [],
   "source": [
    "pollution.to_csv(\"../pollution_clean.csv\")"
   ]
  },
  {
   "cell_type": "code",
   "execution_count": 48,
   "metadata": {},
   "outputs": [],
   "source": [
    "asthma.to_csv(\"../asthma_clean.csv\")"
   ]
  },
  {
   "cell_type": "code",
   "execution_count": 49,
   "metadata": {},
   "outputs": [],
   "source": [
    "rds_connection_string = \"postgres:postgres@localhost:5432/asthma_vs_pollution_db\"\n",
    "engine = create_engine(f'postgresql://{rds_connection_string}') "
   ]
  },
  {
   "cell_type": "code",
   "execution_count": 50,
   "metadata": {},
   "outputs": [
    {
     "data": {
      "text/plain": [
       "[]"
      ]
     },
     "execution_count": 50,
     "metadata": {},
     "output_type": "execute_result"
    }
   ],
   "source": [
    "engine.table_names() "
   ]
  },
  {
   "cell_type": "code",
   "execution_count": null,
   "metadata": {},
   "outputs": [],
   "source": []
  },
  {
   "cell_type": "code",
   "execution_count": null,
   "metadata": {},
   "outputs": [],
   "source": []
  }
 ],
 "metadata": {
  "kernelspec": {
   "display_name": "Python 3",
   "language": "python",
   "name": "python3"
  },
  "language_info": {
   "codemirror_mode": {
    "name": "ipython",
    "version": 3
   },
   "file_extension": ".py",
   "mimetype": "text/x-python",
   "name": "python",
   "nbconvert_exporter": "python",
   "pygments_lexer": "ipython3",
   "version": "3.7.3"
  }
 },
 "nbformat": 4,
 "nbformat_minor": 2
}
